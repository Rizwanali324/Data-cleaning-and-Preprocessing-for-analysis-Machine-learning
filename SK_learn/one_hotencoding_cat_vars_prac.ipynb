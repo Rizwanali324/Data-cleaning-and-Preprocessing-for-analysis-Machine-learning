{
 "cells": [
  {
   "cell_type": "code",
   "execution_count": null,
   "id": "8df3096f",
   "metadata": {},
   "outputs": [],
   "source": [
    "#import lab\n",
    "import numpy as np\n",
    "import pandas as pd\n",
    "from sklearn.impute import SimpleImputer as si #for impute miss val to fill\n",
    "from sklearn.preprocessing import OneHotEncoder  #-----for nominal data encoding \n",
    "from sklearn.preprocessing import LabelEncoder  #---- to label them"
   ]
  },
  {
   "cell_type": "raw",
   "id": "5d2a2bc9",
   "metadata": {},
   "source": [
    "One-hot encoding in machine learning is the conversion of categorical information into a format \n",
    "that may be fed into machine learning algorithms to improve prediction accuracy.\n",
    "\n",
    "One-hot encoding is a common method for dealing \n",
    "with categorical data in machine learning.  (nominal data) jis data m koi order yha relationship na ho\n",
    "Categorical variables must be changed in the pre-processing section since machine learning models\n",
    "require numeric input variables. Nominal or ordinal data can be found in categorical data.\n",
    "\n",
    "This approach creates a new column for each unique value in the original category column.\n",
    "The zeros and ones are subsequently put in these dummy variables (1 meaning TRUE, 0 meaning FALSE)"
   ]
  },
  {
   "cell_type": "code",
   "execution_count": null,
   "id": "08d2471e",
   "metadata": {},
   "outputs": [],
   "source": [
    "df=pd.read_csv(\"C:\\\\Users\\\\Rizwan\\\\Desktop\\\\datasets\\\\Data Science Jobs Salaries.csv\")  #------step 1 load data"
   ]
  },
  {
   "cell_type": "code",
   "execution_count": null,
   "id": "cfc9a955",
   "metadata": {},
   "outputs": [],
   "source": [
    "df.head(10)"
   ]
  },
  {
   "cell_type": "code",
   "execution_count": null,
   "id": "b6c91951",
   "metadata": {},
   "outputs": [],
   "source": [
    "df.tail()"
   ]
  },
  {
   "cell_type": "raw",
   "id": "ecdfc68c",
   "metadata": {},
   "source": [
    "our task is to encode following data cols:\n",
    "   1: experience_level\n",
    "    2:company_size"
   ]
  },
  {
   "cell_type": "markdown",
   "id": "15225292",
   "metadata": {},
   "source": [
    "# for single cols"
   ]
  },
  {
   "cell_type": "code",
   "execution_count": null,
   "id": "915ba945",
   "metadata": {},
   "outputs": [],
   "source": [
    "pd.set_option(\"display.max_rows\", None)  #------to check all cols and rows\n",
    "pd.set_option(\"display.max_columns\",None)"
   ]
  },
  {
   "cell_type": "code",
   "execution_count": null,
   "id": "ff6b697a",
   "metadata": {},
   "outputs": [],
   "source": [
    "df.sample(7)"
   ]
  },
  {
   "cell_type": "code",
   "execution_count": null,
   "id": "c41209a2",
   "metadata": {},
   "outputs": [],
   "source": [
    "#check no of vals in cols \n",
    "df[\"experience_level\"].value_counts()"
   ]
  },
  {
   "cell_type": "code",
   "execution_count": null,
   "id": "afba321a",
   "metadata": {},
   "outputs": [],
   "source": [
    "df[\"company_size\"].value_counts()"
   ]
  },
  {
   "cell_type": "code",
   "execution_count": null,
   "id": "11328946",
   "metadata": {},
   "outputs": [],
   "source": [
    "#----------step2 get dummies of cat data\n",
    "df_dummy=pd.get_dummies(df)\n",
    "df_dummy.head()        #__________________________________it will give everry cat dummy data"
   ]
  },
  {
   "cell_type": "code",
   "execution_count": null,
   "id": "814920f3",
   "metadata": {
    "scrolled": false
   },
   "outputs": [],
   "source": [
    "# step 3 ________________drop the first dummies \n",
    "pd.get_dummies(df,drop_first=True).head()"
   ]
  },
  {
   "cell_type": "raw",
   "id": "cbe12578",
   "metadata": {},
   "source": [
    "machine learning, sparsity \n",
    "refers to a matrix of numbers that includes many zeros or values that will not significantly impact a calculation."
   ]
  },
  {
   "cell_type": "code",
   "execution_count": null,
   "id": "674e4ed0",
   "metadata": {},
   "outputs": [],
   "source": [
    "#  step 4 _________________sparse the data\n",
    "onh_enc=OneHotEncoder(sparse=False)"
   ]
  },
  {
   "cell_type": "code",
   "execution_count": null,
   "id": "e59404d3",
   "metadata": {
    "scrolled": true
   },
   "outputs": [],
   "source": [
    "onh_enc"
   ]
  },
  {
   "cell_type": "code",
   "execution_count": null,
   "id": "9a836ae3",
   "metadata": {},
   "outputs": [],
   "source": [
    "# step5 _______________encode cols  to arr\n",
    "onh_en_arr=onh_enc.fit_transform(df[[\"experience_level\"]])\n",
    "onh_en_arr"
   ]
  },
  {
   "cell_type": "code",
   "execution_count": null,
   "id": "474ecbd8",
   "metadata": {},
   "outputs": [],
   "source": [
    "df_dummy.keys()   #get all cols of dummy data\n"
   ]
  },
  {
   "cell_type": "code",
   "execution_count": null,
   "id": "8c154d22",
   "metadata": {},
   "outputs": [],
   "source": [
    "#step 6 _______________making en_cod_df\n",
    "\n",
    "#note ___________must put all cols which was encoded\n",
    "en_cd_df=pd.DataFrame(onh_en_arr,columns=[\"experience_level_EN\",'experience_level_EX','experience_level_MI','experience_level_SE'])"
   ]
  },
  {
   "cell_type": "code",
   "execution_count": null,
   "id": "cb2e84cf",
   "metadata": {},
   "outputs": [],
   "source": [
    "en_cd_df"
   ]
  },
  {
   "cell_type": "code",
   "execution_count": null,
   "id": "669a9f40",
   "metadata": {},
   "outputs": [],
   "source": [
    "df1=df[[\"experience_level\"]]"
   ]
  },
  {
   "cell_type": "code",
   "execution_count": null,
   "id": "b521c0b4",
   "metadata": {},
   "outputs": [],
   "source": [
    "#step 7 ___________encode them \n",
    "le=LabelEncoder()\n",
    "le.fit_transform(df1[[\"experience_level\"]])"
   ]
  },
  {
   "cell_type": "code",
   "execution_count": null,
   "id": "0572399c",
   "metadata": {},
   "outputs": [],
   "source": [
    "df1[\"lab_enc\"]=le.fit_transform(df1[[\"experience_level\"]])    #put into var  and make new col"
   ]
  },
  {
   "cell_type": "code",
   "execution_count": null,
   "id": "409c4025",
   "metadata": {},
   "outputs": [],
   "source": [
    "df1.head(6)"
   ]
  },
  {
   "cell_type": "code",
   "execution_count": null,
   "id": "ce5d0e56",
   "metadata": {},
   "outputs": [],
   "source": [
    "df1.value_counts()"
   ]
  },
  {
   "cell_type": "code",
   "execution_count": null,
   "id": "6569de15",
   "metadata": {},
   "outputs": [],
   "source": [
    "#step 8 ______________order the enc by yoour self\n",
    "order_label={\"MI\":1,\"SE\":2,'EN':3,\"EX\":4}"
   ]
  },
  {
   "cell_type": "code",
   "execution_count": null,
   "id": "ba1fe822",
   "metadata": {},
   "outputs": [],
   "source": [
    "df1[\"order_label_enc\"]=df1[\"experience_level\"].map(order_label)"
   ]
  },
  {
   "cell_type": "code",
   "execution_count": null,
   "id": "d2161ac4",
   "metadata": {},
   "outputs": [],
   "source": [
    "df1.head(7)"
   ]
  },
  {
   "cell_type": "markdown",
   "id": "f28c7d54",
   "metadata": {},
   "source": [
    "# for multi cols"
   ]
  },
  {
   "cell_type": "raw",
   "id": "b5c95f8c",
   "metadata": {},
   "source": [
    "note :\n",
    "    just put all cols in list and call them"
   ]
  },
  {
   "cell_type": "code",
   "execution_count": null,
   "id": "e39e88d2",
   "metadata": {},
   "outputs": [],
   "source": [
    "onh_en_arr1=onh_enc.fit_transform(df[[\"experience_level\",\"company_size\"]])\n",
    "onh_en_arr1"
   ]
  },
  {
   "cell_type": "code",
   "execution_count": null,
   "id": "ce21f24b",
   "metadata": {},
   "outputs": [],
   "source": [
    "df_dummy.keys()"
   ]
  },
  {
   "cell_type": "code",
   "execution_count": null,
   "id": "4098f926",
   "metadata": {},
   "outputs": [],
   "source": [
    "#step 6 _______________making en_cod_df\n",
    "\n",
    "#note ___________must put all cols which was encoded\n",
    "en_cd_df1=pd.DataFrame(onh_en_arr1,columns=[\"experience_level_EN\",'experience_level_EX','experience_level_MI',\n",
    "                                            'experience_level_SE',\n",
    "                                          'company_size_L', 'company_size_M','company_size_S'])"
   ]
  },
  {
   "cell_type": "code",
   "execution_count": null,
   "id": "37b4d2ae",
   "metadata": {},
   "outputs": [],
   "source": [
    "en_cd_df1.head(7)"
   ]
  },
  {
   "cell_type": "code",
   "execution_count": null,
   "id": "3632bbcf",
   "metadata": {},
   "outputs": [],
   "source": [
    "df2=df[[\"experience_level\",\"company_size\"]]"
   ]
  },
  {
   "cell_type": "code",
   "execution_count": null,
   "id": "fccc8577",
   "metadata": {},
   "outputs": [],
   "source": [
    "#step 7 ___________encode them \n",
    "le=LabelEncoder()\n",
    "le.fit_transform(df2[\"experience_level\"])"
   ]
  },
  {
   "cell_type": "code",
   "execution_count": null,
   "id": "22e48dab",
   "metadata": {},
   "outputs": [],
   "source": [
    "df2[\"company_size_enc\"]=le.fit_transform(df2[\"company_size\"])"
   ]
  },
  {
   "cell_type": "code",
   "execution_count": null,
   "id": "1738d8bc",
   "metadata": {},
   "outputs": [],
   "source": [
    "df2.head(7)"
   ]
  },
  {
   "cell_type": "code",
   "execution_count": null,
   "id": "36bf1be3",
   "metadata": {},
   "outputs": [],
   "source": [
    "df2[\"experience_level_enc\"]=le.fit_transform(df2[\"experience_level\"])\n",
    "df2.head(9)"
   ]
  },
  {
   "cell_type": "code",
   "execution_count": null,
   "id": "de46cca1",
   "metadata": {},
   "outputs": [],
   "source": [
    "df2[\"experience_level\"].value_counts()"
   ]
  },
  {
   "cell_type": "code",
   "execution_count": null,
   "id": "22b636cc",
   "metadata": {},
   "outputs": [],
   "source": [
    "df2[\"company_size\"].value_counts()"
   ]
  },
  {
   "cell_type": "code",
   "execution_count": null,
   "id": "43469d1c",
   "metadata": {},
   "outputs": [],
   "source": [
    "#step 8 ______________order the enc by yoour self\n",
    "order_label={\"M\":2,\"S\":3,\"L\":1}"
   ]
  },
  {
   "cell_type": "code",
   "execution_count": null,
   "id": "f6e47291",
   "metadata": {},
   "outputs": [],
   "source": [
    "df2[\"order_label_enc\"]=df2[\"company_size\"].map(order_label)"
   ]
  },
  {
   "cell_type": "code",
   "execution_count": null,
   "id": "3626c195",
   "metadata": {},
   "outputs": [],
   "source": [
    "df2.head(9)"
   ]
  },
  {
   "cell_type": "code",
   "execution_count": null,
   "id": "9f224dd8",
   "metadata": {},
   "outputs": [],
   "source": [
    "order_label1={\"MI\":0,\"SE\":1,\"EN\":2,\"EX\":3}\n",
    "\n"
   ]
  },
  {
   "cell_type": "code",
   "execution_count": null,
   "id": "86bd26e7",
   "metadata": {},
   "outputs": [],
   "source": [
    "df2[\"order_label_enc_exp\"]=df2[\"experience_level\"].map(order_label1)"
   ]
  },
  {
   "cell_type": "code",
   "execution_count": null,
   "id": "6161932f",
   "metadata": {},
   "outputs": [],
   "source": [
    "df2.head(9)"
   ]
  },
  {
   "cell_type": "code",
   "execution_count": null,
   "id": "8fc83987",
   "metadata": {},
   "outputs": [],
   "source": [
    "df3=df[[\"salary_currency\",\"employment_type\"]]"
   ]
  },
  {
   "cell_type": "code",
   "execution_count": null,
   "id": "7e987c18",
   "metadata": {},
   "outputs": [],
   "source": [
    "df3[\"employment_type_enc\"]=le.fit_transform(df[\"employment_type\"])"
   ]
  },
  {
   "cell_type": "code",
   "execution_count": null,
   "id": "1c43b5a6",
   "metadata": {},
   "outputs": [],
   "source": [
    "df3.head(9)"
   ]
  },
  {
   "cell_type": "code",
   "execution_count": null,
   "id": "b521d8c2",
   "metadata": {},
   "outputs": [],
   "source": [
    "df[\"employment_type\"].value_counts()"
   ]
  },
  {
   "cell_type": "code",
   "execution_count": null,
   "id": "10c3f8df",
   "metadata": {},
   "outputs": [],
   "source": [
    "df[\"salary_currency\"].value_counts()"
   ]
  },
  {
   "cell_type": "code",
   "execution_count": null,
   "id": "d615bf03",
   "metadata": {},
   "outputs": [],
   "source": [
    "order_label_emp={\"FT\":0,\"PT\":1,\"CT\":2,\"FL\":3}\n",
    "\n",
    "order_label_salary={\"USD\":0,\"EUR\":1,\"INR\":2,\"GBP\":3,\"CAD\":4,\"TRY\":5,\"PLN\":6,\"HUF\":7,\"SGD\":8,\n",
    "                   \"MXN\":9,\"DKK\":10,\"BRL\":11,\"CLP\":12,\"JPY\":13,\"CNY\":14 }\n"
   ]
  },
  {
   "cell_type": "code",
   "execution_count": null,
   "id": "831cc084",
   "metadata": {},
   "outputs": [],
   "source": [
    "df3[\"emp_order_label\"]=df3[\"employment_type\"].map(order_label_emp)"
   ]
  },
  {
   "cell_type": "code",
   "execution_count": null,
   "id": "64202267",
   "metadata": {},
   "outputs": [],
   "source": [
    "df3.head(9)"
   ]
  },
  {
   "cell_type": "code",
   "execution_count": null,
   "id": "9a579b33",
   "metadata": {},
   "outputs": [],
   "source": [
    "df3[\"salary_currency_enc\"]=le.fit_transform(df[\"salary_currency\"])"
   ]
  },
  {
   "cell_type": "code",
   "execution_count": null,
   "id": "a96d84bd",
   "metadata": {},
   "outputs": [],
   "source": [
    "df3[\"salary_order_label\"]=df3[\"salary_currency\"].map(order_label_salary)"
   ]
  },
  {
   "cell_type": "code",
   "execution_count": null,
   "id": "b7a8c196",
   "metadata": {},
   "outputs": [],
   "source": [
    "df3.head(7)"
   ]
  },
  {
   "cell_type": "code",
   "execution_count": null,
   "id": "1b008cbf",
   "metadata": {},
   "outputs": [],
   "source": [
    "onh_enc.categories_"
   ]
  },
  {
   "cell_type": "code",
   "execution_count": null,
   "id": "31825135",
   "metadata": {},
   "outputs": [],
   "source": []
  }
 ],
 "metadata": {
  "kernelspec": {
   "display_name": "Python 3 (ipykernel)",
   "language": "python",
   "name": "python3"
  },
  "language_info": {
   "codemirror_mode": {
    "name": "ipython",
    "version": 3
   },
   "file_extension": ".py",
   "mimetype": "text/x-python",
   "name": "python",
   "nbconvert_exporter": "python",
   "pygments_lexer": "ipython3",
   "version": "3.10.9"
  }
 },
 "nbformat": 4,
 "nbformat_minor": 5
}
