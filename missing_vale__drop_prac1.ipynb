{
 "cells": [
  {
   "cell_type": "code",
   "execution_count": null,
   "id": "1967b3de",
   "metadata": {},
   "outputs": [],
   "source": [
    "#______________load labs\n",
    "import numpy as np\n",
    "import pandas as pd\n",
    "import  matplotlib.pyplot as plt\n",
    "import seaborn as sns"
   ]
  },
  {
   "cell_type": "code",
   "execution_count": null,
   "id": "1b8753a8",
   "metadata": {},
   "outputs": [],
   "source": [
    "df=pd.read_csv(\"C:\\\\Users\\\\Rizwan\\\\Desktop\\\\train.csv\")"
   ]
  },
  {
   "cell_type": "code",
   "execution_count": null,
   "id": "51ae7faa",
   "metadata": {},
   "outputs": [],
   "source": [
    "df.head()\n"
   ]
  },
  {
   "cell_type": "code",
   "execution_count": null,
   "id": "40b27c76",
   "metadata": {},
   "outputs": [],
   "source": [
    "df.tail()"
   ]
  },
  {
   "cell_type": "code",
   "execution_count": null,
   "id": "19dc4f6b",
   "metadata": {},
   "outputs": [],
   "source": [
    "ks=df.shape\n",
    "ks\n"
   ]
  },
  {
   "cell_type": "markdown",
   "id": "0b9dacb4",
   "metadata": {},
   "source": [
    "# checkt null values"
   ]
  },
  {
   "cell_type": "code",
   "execution_count": null,
   "id": "16b9ed99",
   "metadata": {},
   "outputs": [],
   "source": [
    "df.isnull().sum()"
   ]
  },
  {
   "cell_type": "code",
   "execution_count": null,
   "id": "d03eb13a",
   "metadata": {},
   "outputs": [],
   "source": [
    "df.isnull().sum().sum()"
   ]
  },
  {
   "cell_type": "markdown",
   "id": "09364167",
   "metadata": {},
   "source": [
    "# to show total columns and rows"
   ]
  },
  {
   "cell_type": "code",
   "execution_count": null,
   "id": "63d07dba",
   "metadata": {},
   "outputs": [],
   "source": [
    "pd.set_option('display.max_columns',None)\n",
    "pd.set_option('display.max_rows',None)"
   ]
  },
  {
   "cell_type": "markdown",
   "id": "f3cc9838",
   "metadata": {},
   "source": [
    "# check info"
   ]
  },
  {
   "cell_type": "code",
   "execution_count": null,
   "id": "70046ed8",
   "metadata": {},
   "outputs": [],
   "source": [
    "df.info()"
   ]
  },
  {
   "cell_type": "markdown",
   "id": "515526bf",
   "metadata": {},
   "source": [
    "# show in chart"
   ]
  },
  {
   "cell_type": "code",
   "execution_count": null,
   "id": "41d2e386",
   "metadata": {},
   "outputs": [],
   "source": [
    "plt.figure(figsize=(16,9))\n",
    "sns.heatmap(df.isnull())"
   ]
  },
  {
   "cell_type": "markdown",
   "id": "6cc24906",
   "metadata": {},
   "source": [
    "colors diffr shows missing values columns"
   ]
  },
  {
   "cell_type": "markdown",
   "id": "2048d64a",
   "metadata": {},
   "source": [
    "# taking % of null_vals"
   ]
  },
  {
   "cell_type": "code",
   "execution_count": null,
   "id": "7f60a4a9",
   "metadata": {},
   "outputs": [],
   "source": [
    "null_var=df.isnull().sum()/df.shape[0]*100\n",
    "null_var"
   ]
  },
  {
   "cell_type": "markdown",
   "id": "9b8e4738",
   "metadata": {},
   "source": [
    "# drop_missing clm >15%"
   ]
  },
  {
   "cell_type": "code",
   "execution_count": null,
   "id": "0a1688eb",
   "metadata": {},
   "outputs": [],
   "source": [
    "drop_clm=null_var[null_var>15].keys()\n",
    "\n",
    "drop_clm"
   ]
  },
  {
   "cell_type": "code",
   "execution_count": null,
   "id": "b8df7e7a",
   "metadata": {},
   "outputs": [],
   "source": [
    "df2_drop_clm=df.drop(columns=drop_clm,axis=1)\n",
    "print(df.shape)#missing val data shape\n",
    "df2_drop_clm.shape#after removing"
   ]
  },
  {
   "cell_type": "markdown",
   "id": "ae253303",
   "metadata": {},
   "source": [
    "# again check in  chart"
   ]
  },
  {
   "cell_type": "code",
   "execution_count": null,
   "id": "8265fcc2",
   "metadata": {},
   "outputs": [],
   "source": [
    "sns.heatmap(df2_drop_clm.isnull())"
   ]
  },
  {
   "cell_type": "code",
   "execution_count": null,
   "id": "43397f7c",
   "metadata": {},
   "outputs": [],
   "source": [
    "df2_drop_clm.isnull().sum()"
   ]
  },
  {
   "cell_type": "markdown",
   "id": "8ceb000e",
   "metadata": {},
   "source": [
    "# drop val about rows"
   ]
  },
  {
   "cell_type": "code",
   "execution_count": null,
   "id": "7e18031d",
   "metadata": {},
   "outputs": [],
   "source": [
    "df3_drop_rows=df2_drop_clm.dropna()\n",
    "\n",
    "#shape after removing nul val in clm and rows\n",
    "df3_drop_rows.shape"
   ]
  },
  {
   "cell_type": "code",
   "execution_count": null,
   "id": "d6375377",
   "metadata": {},
   "outputs": [],
   "source": [
    "plt.figure(figsize=(16,9)) \n",
    "sns.heatmap(df3_drop_rows.isnull())"
   ]
  },
  {
   "cell_type": "markdown",
   "id": "b6276611",
   "metadata": {},
   "source": [
    "Now data is clean without any missing values"
   ]
  },
  {
   "cell_type": "code",
   "execution_count": null,
   "id": "89d19db6",
   "metadata": {},
   "outputs": [],
   "source": [
    "df3_drop_rows.isnull().sum().sum()"
   ]
  },
  {
   "cell_type": "markdown",
   "id": "3b1df3af",
   "metadata": {},
   "source": [
    "# Distrebution of number columns"
   ]
  },
  {
   "cell_type": "code",
   "execution_count": null,
   "id": "3d141a83",
   "metadata": {},
   "outputs": [],
   "source": [
    "df3_drop_rows.select_dtypes(include=['int64','float64']).columns"
   ]
  },
  {
   "cell_type": "code",
   "execution_count": null,
   "id": "d974eb95",
   "metadata": {},
   "outputs": [],
   "source": [
    "sns.displot(df['MSSubClass'])"
   ]
  },
  {
   "cell_type": "code",
   "execution_count": null,
   "id": "5fd6f640",
   "metadata": {},
   "outputs": [],
   "source": [
    "sns.displot(df['MSSubClass'])\n",
    "sns.displot(df3_drop_rows['MSSubClass'])"
   ]
  },
  {
   "cell_type": "raw",
   "id": "c59a5262",
   "metadata": {},
   "source": [
    "num_vars=[ 'MSSubClass', 'LotArea', 'OverallQual', 'OverallCond',\n",
    "       'YearBuilt', 'YearRemodAdd', 'MasVnrArea', 'BsmtFinSF1', 'BsmtFinSF2',\n",
    "       'BsmtUnfSF', 'TotalBsmtSF', '1stFlrSF', '2ndFlrSF', 'LowQualFinSF',\n",
    "       'GrLivArea', 'BsmtFullBath', 'BsmtHalfBath', 'FullBath', 'HalfBath',\n",
    "       'BedroomAbvGr', 'KitchenAbvGr', 'TotRmsAbvGrd', 'Fireplaces',\n",
    "       'GarageYrBlt', 'GarageCars', 'GarageArea', 'WoodDeckSF', 'OpenPorchSF',\n",
    "       'EnclosedPorch', '3SsnPorch', 'ScreenPorch', 'PoolArea', 'MiscVal',\n",
    "       'MoSold', 'YrSold', 'SalePrice']\n",
    "plt.figure(figsize=(25,25))\n",
    "for i, var in enumerate(num_vars):\n",
    "    plt.subplot(9,4, i+1)\n",
    "    sns.distplot(df[var], bins=20)\n",
    "    sns.distplot(df3_drop_rows[var], bins=20)\n",
    "    "
   ]
  },
  {
   "cell_type": "markdown",
   "id": "2935e101",
   "metadata": {},
   "source": [
    "# Load new dataset called Titanic"
   ]
  },
  {
   "cell_type": "code",
   "execution_count": null,
   "id": "3e188bc6",
   "metadata": {},
   "outputs": [],
   "source": [
    "df1=sns.load_dataset(\"titanic\")"
   ]
  },
  {
   "cell_type": "code",
   "execution_count": null,
   "id": "0daaeefb",
   "metadata": {},
   "outputs": [],
   "source": [
    "df1.head()"
   ]
  },
  {
   "cell_type": "code",
   "execution_count": null,
   "id": "13c71689",
   "metadata": {},
   "outputs": [],
   "source": [
    "df1.shape"
   ]
  },
  {
   "cell_type": "code",
   "execution_count": null,
   "id": "f932679c",
   "metadata": {},
   "outputs": [],
   "source": [
    "df1.size"
   ]
  },
  {
   "cell_type": "code",
   "execution_count": null,
   "id": "2563907a",
   "metadata": {},
   "outputs": [],
   "source": [
    "pd.set_option(\"display.max_columns\",None)  #________show all columns and rows\n",
    "pd.set_option(\"display.max_rows\",None)"
   ]
  },
  {
   "cell_type": "code",
   "execution_count": null,
   "id": "bd4ac15e",
   "metadata": {},
   "outputs": [],
   "source": [
    "df1.head()"
   ]
  },
  {
   "cell_type": "code",
   "execution_count": null,
   "id": "139e7c25",
   "metadata": {},
   "outputs": [],
   "source": [
    "df1.info()  #______what types of columns are and what they contain"
   ]
  },
  {
   "cell_type": "code",
   "execution_count": null,
   "id": "53e94cd8",
   "metadata": {},
   "outputs": [],
   "source": [
    "df1.isnull().sum()"
   ]
  },
  {
   "cell_type": "code",
   "execution_count": null,
   "id": "9fd96eda",
   "metadata": {},
   "outputs": [],
   "source": [
    "df1.isnull().sum().sum()   #____check null vals"
   ]
  },
  {
   "cell_type": "code",
   "execution_count": null,
   "id": "446682e9",
   "metadata": {},
   "outputs": [],
   "source": [
    "miss_val_pers=df1.isnull().sum()/df1.shape[0]*100  #_______taking % of misssing values"
   ]
  },
  {
   "cell_type": "code",
   "execution_count": null,
   "id": "f4e700bf",
   "metadata": {},
   "outputs": [],
   "source": [
    "miss_val_pers"
   ]
  },
  {
   "cell_type": "code",
   "execution_count": null,
   "id": "d97e2248",
   "metadata": {},
   "outputs": [],
   "source": [
    "miss_val_col=miss_val_pers[miss_val_pers>20].keys() #_________drop missing columns that are >20 % "
   ]
  },
  {
   "cell_type": "code",
   "execution_count": null,
   "id": "6f1e33b9",
   "metadata": {},
   "outputs": [],
   "source": [
    "df1_drop_col=df1.drop(columns=miss_val_col)"
   ]
  },
  {
   "cell_type": "code",
   "execution_count": null,
   "id": "bfe93e2e",
   "metadata": {},
   "outputs": [],
   "source": [
    "df1_drop_col.shape"
   ]
  },
  {
   "cell_type": "code",
   "execution_count": null,
   "id": "a9a51aa2",
   "metadata": {},
   "outputs": [],
   "source": [
    "df1_numeric=df1_drop_col.select_dtypes(include=['int64','float64']) #______select number columns"
   ]
  },
  {
   "cell_type": "code",
   "execution_count": null,
   "id": "95b59687",
   "metadata": {},
   "outputs": [],
   "source": [
    "df1_numeric.sample(5)"
   ]
  },
  {
   "cell_type": "code",
   "execution_count": null,
   "id": "53db709d",
   "metadata": {},
   "outputs": [],
   "source": [
    "df1_numeric.head()"
   ]
  },
  {
   "cell_type": "code",
   "execution_count": null,
   "id": "b9541694",
   "metadata": {},
   "outputs": [],
   "source": [
    "plt.figure(figsize=(20,20))\n",
    "sns.heatmap(df1_numeric)    #_________heatmap show null values "
   ]
  },
  {
   "cell_type": "code",
   "execution_count": null,
   "id": "4a977c83",
   "metadata": {},
   "outputs": [],
   "source": [
    "df1_numeric[df1_numeric.isnull().any(axis=1)] #_______check all rows that cantain nulls values "
   ]
  },
  {
   "cell_type": "code",
   "execution_count": null,
   "id": "104fd294",
   "metadata": {},
   "outputs": [],
   "source": [
    "df1_numeric.isnull().sum()"
   ]
  },
  {
   "cell_type": "code",
   "execution_count": null,
   "id": "afe8a018",
   "metadata": {},
   "outputs": [],
   "source": [
    "df1_numeric.isnull().sum().sum()"
   ]
  },
  {
   "cell_type": "code",
   "execution_count": null,
   "id": "8ac065a9",
   "metadata": {},
   "outputs": [],
   "source": [
    "missing_num_val=[var for var in df1_numeric.columns if df1_numeric[var].isnull().sum()>0]  #_________drop the columns"
   ]
  },
  {
   "cell_type": "code",
   "execution_count": null,
   "id": "ed57c599",
   "metadata": {},
   "outputs": [],
   "source": [
    "missing_num_val"
   ]
  },
  {
   "cell_type": "code",
   "execution_count": null,
   "id": "06c0cacb",
   "metadata": {},
   "outputs": [],
   "source": [
    "plt.figure(figsize=(16,16))\n",
    "sns.set()\n",
    "for i, var in enumerate(missing_num_val):\n",
    "    plt.subplot(2,2,i+1)\n",
    "    sns.histplot(df1_numeric[var], bins=20, kde_kws={'linewidth':5, 'color':'k'})"
   ]
  },
  {
   "cell_type": "code",
   "execution_count": null,
   "id": "286a509f",
   "metadata": {},
   "outputs": [],
   "source": [
    "df1_mean=df1_numeric.fillna(df1_numeric.mean())\n",
    "df1_mean"
   ]
  },
  {
   "cell_type": "code",
   "execution_count": null,
   "id": "44558186",
   "metadata": {},
   "outputs": [],
   "source": [
    "df1_mean.isnull().sum().sum()"
   ]
  },
  {
   "cell_type": "code",
   "execution_count": null,
   "id": "f0d72218",
   "metadata": {},
   "outputs": [],
   "source": [
    "df1_median=df1_numeric.fillna(df1_numeric.median())"
   ]
  },
  {
   "cell_type": "code",
   "execution_count": null,
   "id": "bc35413d",
   "metadata": {},
   "outputs": [],
   "source": [
    "df1_median"
   ]
  },
  {
   "cell_type": "code",
   "execution_count": null,
   "id": "942bedfd",
   "metadata": {},
   "outputs": [],
   "source": [
    "df1_median.isnull().sum().sum()"
   ]
  },
  {
   "cell_type": "code",
   "execution_count": null,
   "id": "a4933885",
   "metadata": {},
   "outputs": [],
   "source": [
    "plt.figure(figsize=(16,16))\n",
    "sns.set()\n",
    "for i, var in enumerate(missing_num_val):\n",
    "    plt.subplot(2,2,i+1)\n",
    "    sns.histplot(df1_median[var], bins=20, kde=True)"
   ]
  },
  {
   "cell_type": "code",
   "execution_count": null,
   "id": "9ec4deab",
   "metadata": {},
   "outputs": [],
   "source": [
    "plt.figure(figsize=(16,16))\n",
    "sns.set()\n",
    "for i, var in enumerate(missing_num_val):\n",
    "    plt.subplot(2,2,i+1)\n",
    "    sns.histplot(df1_mean[var], bins=20,kde=True)"
   ]
  },
  {
   "cell_type": "code",
   "execution_count": null,
   "id": "af104924",
   "metadata": {},
   "outputs": [],
   "source": [
    "df1_median.isnull().sum()"
   ]
  },
  {
   "cell_type": "code",
   "execution_count": null,
   "id": "fffc310d",
   "metadata": {},
   "outputs": [],
   "source": []
  }
 ],
 "metadata": {
  "kernelspec": {
   "display_name": "Python 3 (ipykernel)",
   "language": "python",
   "name": "python3"
  },
  "language_info": {
   "codemirror_mode": {
    "name": "ipython",
    "version": 3
   },
   "file_extension": ".py",
   "mimetype": "text/x-python",
   "name": "python",
   "nbconvert_exporter": "python",
   "pygments_lexer": "ipython3",
   "version": "3.10.9"
  }
 },
 "nbformat": 4,
 "nbformat_minor": 5
}
